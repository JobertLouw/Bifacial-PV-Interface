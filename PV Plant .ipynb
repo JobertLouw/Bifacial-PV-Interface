{
 "cells": [
  {
   "cell_type": "code",
   "execution_count": 2,
   "metadata": {},
   "outputs": [],
   "source": [
    "#import the necessary functions\n",
    "import os\n",
    "import subprocess as subp #for handling shell commands\n",
    "from subprocess import Popen, PIPE  # replacement for os.system()\n",
    "import numpy as np\n",
    "\n",
    "def _popen(cmd, data_in, data_out=PIPE):\n",
    "    \"\"\"\n",
    "    Helper function subprocess.popen replaces os.system \n",
    "    - gives better input/output process control\n",
    "    usage: pass <data_in> to process <cmd> and return results\n",
    "    from rgbeimage.py (Thomas Bleicher 2010)\n",
    "    \"\"\"\n",
    "    cmd = str(cmd) #removes unicode\n",
    "    p_o = Popen(cmd, bufsize=-1, stdin=PIPE, stdout=data_out, stderr=PIPE)\n",
    "    data, err = p_o.communicate(data_in)\n",
    "    if err:\n",
    "        return 'message: '+err.strip()\n",
    "    if data:\n",
    "        return data"
   ]
  },
  {
   "cell_type": "code",
   "execution_count": 3,
   "metadata": {},
   "outputs": [
    {
     "name": "stdout",
     "output_type": "stream",
     "text": [
      "Current working directory: C:\\Radiance\\bin\\pv_plant\n"
     ]
    }
   ],
   "source": [
    "#set working directory path\n",
    "path = r'C:\\Radiance\\bin\\pv_plant'\n",
    "os.chdir(path)\n",
    "cwd = os.getcwd()\n",
    "print \"Current working directory: \" + cwd"
   ]
  },
  {
   "cell_type": "code",
   "execution_count": 7,
   "metadata": {},
   "outputs": [],
   "source": [
    "azi = -45\n",
    "tilt = 0\n",
    "l = 1.6 #length of a panel\n",
    "h = 1.0 #height of a panel\n",
    "mh = 1.0 #mount height\n",
    "\n",
    "#calculate the centre point of each panel\n",
    "u = (l*np.sin(np.deg2rad(90-azi)))/2 #x coordinate\n",
    "v = (l*np.cos(np.deg2rad(90-azi)))/-2 #y coordinate\n",
    "w = mh + (h/2) #z coordinate\n",
    "\n",
    "#calculate the normal vector\n",
    "norm_x = np.sin(np.deg2rad(90-azi))\n",
    "norm_y = np.cos(np.deg2rad(90-azi))\n",
    "norm_z = np.cos(np.deg2rad(90-tilt))\n",
    "\n",
    "\n",
    "#write the calculated normal vector values to the file\n",
    "file = open(\"normal_vec.dat\",\"w\")\n",
    "file.write('%s ' %norm_x + '%s ' %norm_y + '%s' %norm_z)\n",
    "file.close() \n",
    "\n",
    "#write the measurement points to a file\n",
    "file = open(\"measure_front.dat\",\"w\")\n",
    "for j in range(0,10,2):\n",
    "    meas_x = j + u\n",
    "    \n",
    "    for i in range(0,10,2):\n",
    "        meas_y = i + v\n",
    "        \n",
    "        #x y z x' y' z'\n",
    "        file.write('%s ' %meas_x + \\\n",
    "                   '%s ' %meas_y + \\\n",
    "                   '%s ' %w + \\\n",
    "                   '%s ' %norm_x + \\\n",
    "                   '%s ' %norm_y + \\\n",
    "                   '%s' %norm_z + \\\n",
    "                   '\\n')\n",
    "\n",
    "file.close()\n",
    "\n",
    "#run the bash script\n",
    "comd = \"bash pv_script.bash\"\n",
    "error = _popen(comd,None)\n",
    "\n",
    "if error is not None:\n",
    "    print error"
   ]
  },
  {
   "cell_type": "code",
   "execution_count": 10,
   "metadata": {},
   "outputs": [
    {
     "name": "stdout",
     "output_type": "stream",
     "text": [
      "set ROPT=-dp 1024 -ar 1706 -ms 0.028 -ds .3 -dt .1 -dc .5 -dr 1 -ss 1 -st .1 -af illum.amb -aa .1 -ad 1536 -as 392 -av 17 17 17 -lr 8 -lw 1e-4\r\n",
      "\trvu -vf bev.vf $ROPT -ps 4 -pt .08 -R pv_control.rif -o qt -pe 0.0288702 pv_control.oct\r\n",
      "\n",
      "message: rtrace: fatal - command line error at 'pv_control.oct'\n"
     ]
    }
   ],
   "source": [
    "comd = \"rad -o qt pv_control.rif\"\n",
    "error = _popen(comd,None)\n",
    "\n",
    "if error is not None:\n",
    "    print error\n",
    "\n",
    "comd = \"rtrace -h -w -ab 2 -I -ad 512 -as 128 -ov pv_control.oct < measure_front.dat \\\n",
    "        | rcalc -f irr_formula.dat > irr_front.dat\"\n",
    "error = _popen(comd,None)\n",
    "\n",
    "if error is not None:\n",
    "    print error"
   ]
  },
  {
   "cell_type": "code",
   "execution_count": null,
   "metadata": {},
   "outputs": [],
   "source": []
  }
 ],
 "metadata": {
  "kernelspec": {
   "display_name": "Python 2",
   "language": "python",
   "name": "python2"
  },
  "language_info": {
   "codemirror_mode": {
    "name": "ipython",
    "version": 2
   },
   "file_extension": ".py",
   "mimetype": "text/x-python",
   "name": "python",
   "nbconvert_exporter": "python",
   "pygments_lexer": "ipython2",
   "version": "2.7.14"
  }
 },
 "nbformat": 4,
 "nbformat_minor": 2
}
